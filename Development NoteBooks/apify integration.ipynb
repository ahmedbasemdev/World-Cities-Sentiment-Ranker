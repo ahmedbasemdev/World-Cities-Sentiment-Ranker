{
 "cells": [
  {
   "cell_type": "code",
   "execution_count": 1,
   "metadata": {},
   "outputs": [],
   "source": []
  },
  {
   "cell_type": "markdown",
   "metadata": {},
   "source": [
    "{\n",
    "    \"geotaggedNear\": \"Los Angeles\",\n",
    "    \"minimumReplies\": 5,\n",
    "    \"minimumRetweets\": 5,\n",
    "    \"onlyVerifiedUsers\": true,\n",
    "    \"withinRadius\": \"15km\",\n",
    "    \"query\": \"news\",\n",
    "    \"maxTweets\": 50,\n",
    "    \"searchMode\": \"recent\"\n",
    "}"
   ]
  },
  {
   "cell_type": "code",
   "execution_count": 12,
   "metadata": {},
   "outputs": [],
   "source": [
    "import requests\n",
    "import os"
   ]
  },
  {
   "cell_type": "code",
   "execution_count": 70,
   "metadata": {},
   "outputs": [
    {
     "ename": "JSONDecodeError",
     "evalue": "Expecting value: line 1 column 1 (char 0)",
     "output_type": "error",
     "traceback": [
      "\u001b[1;31m---------------------------------------------------------------------------\u001b[0m",
      "\u001b[1;31mJSONDecodeError\u001b[0m                           Traceback (most recent call last)",
      "\u001b[1;32mc:\\Users\\Ahmed-Basem\\Anaconda3\\lib\\site-packages\\requests\\models.py\u001b[0m in \u001b[0;36mjson\u001b[1;34m(self, **kwargs)\u001b[0m\n\u001b[0;32m    970\u001b[0m         \u001b[1;32mtry\u001b[0m\u001b[1;33m:\u001b[0m\u001b[1;33m\u001b[0m\u001b[1;33m\u001b[0m\u001b[0m\n\u001b[1;32m--> 971\u001b[1;33m             \u001b[1;32mreturn\u001b[0m \u001b[0mcomplexjson\u001b[0m\u001b[1;33m.\u001b[0m\u001b[0mloads\u001b[0m\u001b[1;33m(\u001b[0m\u001b[0mself\u001b[0m\u001b[1;33m.\u001b[0m\u001b[0mtext\u001b[0m\u001b[1;33m,\u001b[0m \u001b[1;33m**\u001b[0m\u001b[0mkwargs\u001b[0m\u001b[1;33m)\u001b[0m\u001b[1;33m\u001b[0m\u001b[1;33m\u001b[0m\u001b[0m\n\u001b[0m\u001b[0;32m    972\u001b[0m         \u001b[1;32mexcept\u001b[0m \u001b[0mJSONDecodeError\u001b[0m \u001b[1;32mas\u001b[0m \u001b[0me\u001b[0m\u001b[1;33m:\u001b[0m\u001b[1;33m\u001b[0m\u001b[1;33m\u001b[0m\u001b[0m\n",
      "\u001b[1;32mc:\\Users\\Ahmed-Basem\\Anaconda3\\lib\\json\\__init__.py\u001b[0m in \u001b[0;36mloads\u001b[1;34m(s, cls, object_hook, parse_float, parse_int, parse_constant, object_pairs_hook, **kw)\u001b[0m\n\u001b[0;32m    345\u001b[0m             parse_constant is None and object_pairs_hook is None and not kw):\n\u001b[1;32m--> 346\u001b[1;33m         \u001b[1;32mreturn\u001b[0m \u001b[0m_default_decoder\u001b[0m\u001b[1;33m.\u001b[0m\u001b[0mdecode\u001b[0m\u001b[1;33m(\u001b[0m\u001b[0ms\u001b[0m\u001b[1;33m)\u001b[0m\u001b[1;33m\u001b[0m\u001b[1;33m\u001b[0m\u001b[0m\n\u001b[0m\u001b[0;32m    347\u001b[0m     \u001b[1;32mif\u001b[0m \u001b[0mcls\u001b[0m \u001b[1;32mis\u001b[0m \u001b[1;32mNone\u001b[0m\u001b[1;33m:\u001b[0m\u001b[1;33m\u001b[0m\u001b[1;33m\u001b[0m\u001b[0m\n",
      "\u001b[1;32mc:\\Users\\Ahmed-Basem\\Anaconda3\\lib\\json\\decoder.py\u001b[0m in \u001b[0;36mdecode\u001b[1;34m(self, s, _w)\u001b[0m\n\u001b[0;32m    336\u001b[0m         \"\"\"\n\u001b[1;32m--> 337\u001b[1;33m         \u001b[0mobj\u001b[0m\u001b[1;33m,\u001b[0m \u001b[0mend\u001b[0m \u001b[1;33m=\u001b[0m \u001b[0mself\u001b[0m\u001b[1;33m.\u001b[0m\u001b[0mraw_decode\u001b[0m\u001b[1;33m(\u001b[0m\u001b[0ms\u001b[0m\u001b[1;33m,\u001b[0m \u001b[0midx\u001b[0m\u001b[1;33m=\u001b[0m\u001b[0m_w\u001b[0m\u001b[1;33m(\u001b[0m\u001b[0ms\u001b[0m\u001b[1;33m,\u001b[0m \u001b[1;36m0\u001b[0m\u001b[1;33m)\u001b[0m\u001b[1;33m.\u001b[0m\u001b[0mend\u001b[0m\u001b[1;33m(\u001b[0m\u001b[1;33m)\u001b[0m\u001b[1;33m)\u001b[0m\u001b[1;33m\u001b[0m\u001b[1;33m\u001b[0m\u001b[0m\n\u001b[0m\u001b[0;32m    338\u001b[0m         \u001b[0mend\u001b[0m \u001b[1;33m=\u001b[0m \u001b[0m_w\u001b[0m\u001b[1;33m(\u001b[0m\u001b[0ms\u001b[0m\u001b[1;33m,\u001b[0m \u001b[0mend\u001b[0m\u001b[1;33m)\u001b[0m\u001b[1;33m.\u001b[0m\u001b[0mend\u001b[0m\u001b[1;33m(\u001b[0m\u001b[1;33m)\u001b[0m\u001b[1;33m\u001b[0m\u001b[1;33m\u001b[0m\u001b[0m\n",
      "\u001b[1;32mc:\\Users\\Ahmed-Basem\\Anaconda3\\lib\\json\\decoder.py\u001b[0m in \u001b[0;36mraw_decode\u001b[1;34m(self, s, idx)\u001b[0m\n\u001b[0;32m    354\u001b[0m         \u001b[1;32mexcept\u001b[0m \u001b[0mStopIteration\u001b[0m \u001b[1;32mas\u001b[0m \u001b[0merr\u001b[0m\u001b[1;33m:\u001b[0m\u001b[1;33m\u001b[0m\u001b[1;33m\u001b[0m\u001b[0m\n\u001b[1;32m--> 355\u001b[1;33m             \u001b[1;32mraise\u001b[0m \u001b[0mJSONDecodeError\u001b[0m\u001b[1;33m(\u001b[0m\u001b[1;34m\"Expecting value\"\u001b[0m\u001b[1;33m,\u001b[0m \u001b[0ms\u001b[0m\u001b[1;33m,\u001b[0m \u001b[0merr\u001b[0m\u001b[1;33m.\u001b[0m\u001b[0mvalue\u001b[0m\u001b[1;33m)\u001b[0m \u001b[1;32mfrom\u001b[0m \u001b[1;32mNone\u001b[0m\u001b[1;33m\u001b[0m\u001b[1;33m\u001b[0m\u001b[0m\n\u001b[0m\u001b[0;32m    356\u001b[0m         \u001b[1;32mreturn\u001b[0m \u001b[0mobj\u001b[0m\u001b[1;33m,\u001b[0m \u001b[0mend\u001b[0m\u001b[1;33m\u001b[0m\u001b[1;33m\u001b[0m\u001b[0m\n",
      "\u001b[1;31mJSONDecodeError\u001b[0m: Expecting value: line 1 column 1 (char 0)",
      "\nDuring handling of the above exception, another exception occurred:\n",
      "\u001b[1;31mJSONDecodeError\u001b[0m                           Traceback (most recent call last)",
      "\u001b[1;32m~\\AppData\\Local\\Temp\\ipykernel_19492\\2218993991.py\u001b[0m in \u001b[0;36m<module>\u001b[1;34m\u001b[0m\n\u001b[0;32m     23\u001b[0m \u001b[1;31m# Check if the request was successful\u001b[0m\u001b[1;33m\u001b[0m\u001b[1;33m\u001b[0m\u001b[0m\n\u001b[0;32m     24\u001b[0m \u001b[1;32mif\u001b[0m \u001b[0mresponse\u001b[0m\u001b[1;33m.\u001b[0m\u001b[0mstatus_code\u001b[0m \u001b[1;33m==\u001b[0m \u001b[1;36m201\u001b[0m\u001b[1;33m:\u001b[0m\u001b[1;33m\u001b[0m\u001b[1;33m\u001b[0m\u001b[0m\n\u001b[1;32m---> 25\u001b[1;33m     \u001b[0mdata\u001b[0m \u001b[1;33m=\u001b[0m \u001b[0mresponse\u001b[0m\u001b[1;33m.\u001b[0m\u001b[0mjson\u001b[0m\u001b[1;33m(\u001b[0m\u001b[1;33m)\u001b[0m  \u001b[1;31m# Parse the JSON response\u001b[0m\u001b[1;33m\u001b[0m\u001b[1;33m\u001b[0m\u001b[0m\n\u001b[0m\u001b[0;32m     26\u001b[0m     \u001b[0mprint\u001b[0m\u001b[1;33m(\u001b[0m\u001b[1;34m\"Data retrieved successfully!\"\u001b[0m\u001b[1;33m)\u001b[0m\u001b[1;33m\u001b[0m\u001b[1;33m\u001b[0m\u001b[0m\n\u001b[0;32m     27\u001b[0m     \u001b[0mprint\u001b[0m\u001b[1;33m(\u001b[0m\u001b[0mdata\u001b[0m\u001b[1;33m)\u001b[0m  \u001b[1;31m# Print the data or handle it as needed\u001b[0m\u001b[1;33m\u001b[0m\u001b[1;33m\u001b[0m\u001b[0m\n",
      "\u001b[1;32mc:\\Users\\Ahmed-Basem\\Anaconda3\\lib\\site-packages\\requests\\models.py\u001b[0m in \u001b[0;36mjson\u001b[1;34m(self, **kwargs)\u001b[0m\n\u001b[0;32m    973\u001b[0m             \u001b[1;31m# Catch JSON-related errors and raise as requests.JSONDecodeError\u001b[0m\u001b[1;33m\u001b[0m\u001b[1;33m\u001b[0m\u001b[0m\n\u001b[0;32m    974\u001b[0m             \u001b[1;31m# This aliases json.JSONDecodeError and simplejson.JSONDecodeError\u001b[0m\u001b[1;33m\u001b[0m\u001b[1;33m\u001b[0m\u001b[0m\n\u001b[1;32m--> 975\u001b[1;33m             \u001b[1;32mraise\u001b[0m \u001b[0mRequestsJSONDecodeError\u001b[0m\u001b[1;33m(\u001b[0m\u001b[0me\u001b[0m\u001b[1;33m.\u001b[0m\u001b[0mmsg\u001b[0m\u001b[1;33m,\u001b[0m \u001b[0me\u001b[0m\u001b[1;33m.\u001b[0m\u001b[0mdoc\u001b[0m\u001b[1;33m,\u001b[0m \u001b[0me\u001b[0m\u001b[1;33m.\u001b[0m\u001b[0mpos\u001b[0m\u001b[1;33m)\u001b[0m\u001b[1;33m\u001b[0m\u001b[1;33m\u001b[0m\u001b[0m\n\u001b[0m\u001b[0;32m    976\u001b[0m \u001b[1;33m\u001b[0m\u001b[0m\n\u001b[0;32m    977\u001b[0m     \u001b[1;33m@\u001b[0m\u001b[0mproperty\u001b[0m\u001b[1;33m\u001b[0m\u001b[1;33m\u001b[0m\u001b[0m\n",
      "\u001b[1;31mJSONDecodeError\u001b[0m: Expecting value: line 1 column 1 (char 0)"
     ]
    }
   ],
   "source": [
    "import os\n",
    "import requests\n",
    "\n",
    "# Define the API endpoint\n",
    "\n",
    "\n",
    "# Define the input parameters for the API\n",
    "inputs = {\n",
    "    \"geotaggedNear\": \"Cairo, Egypt\",\n",
    "    \"minimumFavorites\": 100,\n",
    "    \"withinRadius\": \"30km\",\n",
    "    \"minimumRetweets\":50,\n",
    "    \"query\": \"news\",\n",
    "    \"searchMode\": \"recent\",\n",
    "}\n",
    "\n",
    "# Define the headers and parameters for the API request\n",
    "params = {\"token\": os.environ['APIFY_TOKEN'], \"maxItems\": 12}\n",
    "\n",
    "# Send the POST request to the API\n",
    "response = requests.post(url, json=inputs, params=params)\n",
    "\n",
    "# Check if the request was successful\n",
    "if response.status_code == 201:\n",
    "    data = response.json()  # Parse the JSON response\n",
    "    print(\"Data retrieved successfully!\")\n",
    "    print(data)  # Print the data or handle it as needed\n",
    "else:\n",
    "    print(f\"Failed to retrieve data. Status code: {response.status_code}\")\n",
    "    print(response.text)  # Print the error message if available\n"
   ]
  },
  {
   "cell_type": "code",
   "execution_count": null,
   "metadata": {},
   "outputs": [
    {
     "data": {
      "text/plain": [
       "[]"
      ]
     },
     "execution_count": 51,
     "metadata": {},
     "output_type": "execute_result"
    }
   ],
   "source": [
    "data"
   ]
  },
  {
   "cell_type": "code",
   "execution_count": 71,
   "metadata": {},
   "outputs": [
    {
     "name": "stdout",
     "output_type": "stream",
     "text": [
      "Data retrieved successfully!\n",
      "{'data': {'total': 14, 'count': 14, 'offset': 0, 'limit': 1000, 'desc': False, 'items': [{'id': 'fx2qGKfgqAzpj9v82', 'actId': '61RPP7dywgiy0JPD0', 'status': 'SUCCEEDED', 'startedAt': '2024-08-09T15:52:49.307Z', 'finishedAt': '2024-08-09T17:01:17.058Z', 'buildId': 'AU2ARh8DKXbvNqlIf', 'buildNumber': '0.0.375', 'meta': {'origin': 'API'}, 'defaultKeyValueStoreId': 'CXNqsTRko9dOg3CZb', 'defaultDatasetId': 'S7uhi1NR9TVbWjOAe', 'defaultRequestQueueId': 'HtdpVhwBjuIUZ9KYJ', 'usageTotalUsd': 0.25422984069713284}, {'id': 'hhfpbseM7x9teAieF', 'actId': '61RPP7dywgiy0JPD0', 'status': 'SUCCEEDED', 'startedAt': '2024-08-09T15:55:34.098Z', 'finishedAt': '2024-08-09T16:00:37.410Z', 'buildId': 'AU2ARh8DKXbvNqlIf', 'buildNumber': '0.0.375', 'meta': {'origin': 'API'}, 'defaultKeyValueStoreId': 'SNZjTEOSBOs2aF1Ic', 'defaultDatasetId': 'tZPAWa4DNL4YF8N75', 'defaultRequestQueueId': 'pxm3xJE0nkycbync3', 'usageTotalUsd': 0.02229149943253564}, {'id': 'T2o37iPJtvGuIvSIX', 'actId': '61RPP7dywgiy0JPD0', 'status': 'SUCCEEDED', 'startedAt': '2024-08-10T14:53:49.958Z', 'finishedAt': '2024-08-10T14:59:03.967Z', 'buildId': 'MSmGhuz5KCSZsYPkd', 'buildNumber': '0.0.377', 'meta': {'origin': 'API'}, 'defaultKeyValueStoreId': 'IXET5PjkwXpu35cog', 'defaultDatasetId': 'X4gEhneQgmFa8a1Xo', 'defaultRequestQueueId': 'yYsJUggsrrKFagvbg', 'usageTotalUsd': 0.021223880372466315}, {'id': 'wrcx4ZPLYpkVgAGiX', 'actId': '61RPP7dywgiy0JPD0', 'status': 'SUCCEEDED', 'startedAt': '2024-08-10T14:58:40.850Z', 'finishedAt': '2024-08-10T14:59:36.751Z', 'buildId': 'MSmGhuz5KCSZsYPkd', 'buildNumber': '0.0.377', 'meta': {'origin': 'API'}, 'defaultKeyValueStoreId': 'dUwHeShsXax3LGb0z', 'defaultDatasetId': 'TboNpVnr4FixmFgag', 'defaultRequestQueueId': '3SWtvwoyC1V1j7kxv', 'usageTotalUsd': 0.006661995611747105}, {'id': 'zv1fTNwtd0mdhTqte', 'actId': '61RPP7dywgiy0JPD0', 'status': 'SUCCEEDED', 'startedAt': '2024-08-10T15:04:20.424Z', 'finishedAt': '2024-08-10T17:11:17.022Z', 'buildId': 'MSmGhuz5KCSZsYPkd', 'buildNumber': '0.0.377', 'meta': {'origin': 'API'}, 'defaultKeyValueStoreId': 'HnCzChUMIBAi02weD', 'defaultDatasetId': 'OLvxpaPZw1H9cwl78', 'defaultRequestQueueId': 'BJCnJcxL55V3BzLNI', 'usageTotalUsd': 0.5240981477588514}, {'id': '5gS0idoaW6SdUMuI9', 'actId': '61RPP7dywgiy0JPD0', 'status': 'ABORTED', 'startedAt': '2024-08-10T18:28:51.071Z', 'finishedAt': '2024-08-10T18:29:20.607Z', 'buildId': 'MSmGhuz5KCSZsYPkd', 'buildNumber': '0.0.377', 'meta': {'origin': 'API'}, 'defaultKeyValueStoreId': 'D7gveeTw23FOF7L6u', 'defaultDatasetId': 'h1UWr5IOWfzenPxjI', 'defaultRequestQueueId': 'TgQY9Slo6iCLXwW08', 'usageTotalUsd': 0.0017761731586787436}, {'id': 'uh0awpJjGqcpe6ECa', 'actId': '61RPP7dywgiy0JPD0', 'status': 'SUCCEEDED', 'startedAt': '2024-08-11T12:05:49.793Z', 'finishedAt': '2024-08-11T12:05:55.740Z', 'buildId': '3klZKHHbyS80qlkKV', 'buildNumber': '0.0.378', 'meta': {'origin': 'API'}, 'defaultKeyValueStoreId': 'yAaxDcqsw4Od8iWia', 'defaultDatasetId': 'Y05LyKbbIql76TNAF', 'defaultRequestQueueId': '4zB2ETaYRNH860C3I', 'usageTotalUsd': 0.0002194852722005712}, {'id': '0bivrKeQvpDYEeqlf', 'actId': '61RPP7dywgiy0JPD0', 'status': 'SUCCEEDED', 'startedAt': '2024-08-11T12:06:21.032Z', 'finishedAt': '2024-08-11T12:06:30.408Z', 'buildId': '3klZKHHbyS80qlkKV', 'buildNumber': '0.0.378', 'meta': {'origin': 'API'}, 'defaultKeyValueStoreId': 'AcWUEmAcbsrk3uDlZ', 'defaultDatasetId': 'MXdUEgCbeVvh5Wfbw', 'defaultRequestQueueId': 'ohJhnfW7GnwJfssUp', 'usageTotalUsd': 0.0003138801891985867}, {'id': '5bwIhGIRcXPHmgOg4', 'actId': '61RPP7dywgiy0JPD0', 'status': 'SUCCEEDED', 'startedAt': '2024-08-11T12:14:32.648Z', 'finishedAt': '2024-08-11T12:14:41.800Z', 'buildId': '3klZKHHbyS80qlkKV', 'buildNumber': '0.0.378', 'meta': {'origin': 'API'}, 'defaultKeyValueStoreId': 'oIWkeIw4FiDRYbQbi', 'defaultDatasetId': 'iJOmdkCgHV7rkoQTz', 'defaultRequestQueueId': 'CZxNAhUFyvVKmsSSa', 'usageTotalUsd': 0.00030993014495737025}, {'id': 'XAtIHLmZi1BVRblIt', 'actId': '61RPP7dywgiy0JPD0', 'status': 'SUCCEEDED', 'startedAt': '2024-08-11T12:15:55.258Z', 'finishedAt': '2024-08-11T12:16:02.771Z', 'buildId': '3klZKHHbyS80qlkKV', 'buildNumber': '0.0.378', 'meta': {'origin': 'API'}, 'defaultKeyValueStoreId': 'Wzfad3AwdZEGZNLQl', 'defaultDatasetId': 'gQkNuglPhOUKG6jsm', 'defaultRequestQueueId': '25s8tRKgMJ4KNrImB', 'usageTotalUsd': 0.000312900399459733}, {'id': 'ljSEzMzCdD60796gx', 'actId': '61RPP7dywgiy0JPD0', 'status': 'SUCCEEDED', 'startedAt': '2024-08-11T12:34:30.840Z', 'finishedAt': '2024-08-11T12:34:40.714Z', 'buildId': '3klZKHHbyS80qlkKV', 'buildNumber': '0.0.378', 'meta': {'origin': 'API'}, 'defaultKeyValueStoreId': 'jwtx3UBsWhSwWEkXw', 'defaultDatasetId': 'TmwUTu7cqrLZ5mC2W', 'defaultRequestQueueId': 'd1h5ussDdylgsadUz', 'usageTotalUsd': 0.0003891157992233833}, {'id': 'RQakU7dn23GhQfi5Z', 'actId': '61RPP7dywgiy0JPD0', 'status': 'SUCCEEDED', 'startedAt': '2024-08-11T12:35:14.586Z', 'finishedAt': '2024-08-11T12:35:23.915Z', 'buildId': '3klZKHHbyS80qlkKV', 'buildNumber': '0.0.378', 'meta': {'origin': 'API'}, 'defaultKeyValueStoreId': 'iUsSo2zlvXdkK4XHz', 'defaultDatasetId': 'KM1TNNgWMOvfLcakx', 'defaultRequestQueueId': 'xJy0Vd27gSwSpzprl', 'usageTotalUsd': 0.0003745997539460659}, {'id': 'eNnGeJZPqLHQYMSUh', 'actId': '61RPP7dywgiy0JPD0', 'status': 'SUCCEEDED', 'startedAt': '2024-08-11T12:51:07.898Z', 'finishedAt': '2024-08-11T12:51:20.357Z', 'buildId': '3klZKHHbyS80qlkKV', 'buildNumber': '0.0.378', 'meta': {'origin': 'API'}, 'defaultKeyValueStoreId': 'EgRNBe7dRsKsseTEV', 'defaultDatasetId': 'cUWUtt9J313HPc4Cm', 'defaultRequestQueueId': 'NcL4RdicrZuQnaP2m', 'usageTotalUsd': 0.0004328209869795376}, {'id': 'ML6B1JE5TrOcHptfa', 'actId': '61RPP7dywgiy0JPD0', 'status': 'SUCCEEDED', 'startedAt': '2024-08-11T12:53:01.482Z', 'finishedAt': '2024-08-11T12:53:16.509Z', 'buildId': '3klZKHHbyS80qlkKV', 'buildNumber': '0.0.378', 'meta': {'origin': 'API'}, 'defaultKeyValueStoreId': '6KRresMLMJqMhYCXY', 'defaultDatasetId': 'URbCSzUn3lG75Nsxn', 'defaultRequestQueueId': 'wvYWf5TinHITZz8hq', 'usageTotalUsd': 0.0005291136988583538}]}}\n"
     ]
    }
   ],
   "source": [
    "url = f\"https://api.apify.com/v2/actor-runs?token={os.environ['APIFY_TOKEN']}\"\n",
    "\n",
    "response = requests.get(url)\n",
    "\n",
    "# Check if the request was successful\n",
    "if response.status_code == 200:\n",
    "    data = response.json()  # Parse the JSON response\n",
    "    print(\"Data retrieved successfully!\")\n",
    "    print(data)  # Print the data or handle it as needed\n",
    "else:\n",
    "    print(f\"Failed to retrieve data. Status code: {response.status_code}\")\n",
    "    print(response.text)  # Print the error message if available\n"
   ]
  },
  {
   "cell_type": "code",
   "execution_count": 75,
   "metadata": {},
   "outputs": [
    {
     "ename": "TypeError",
     "evalue": "list indices must be integers or slices, not str",
     "output_type": "error",
     "traceback": [
      "\u001b[1;31m---------------------------------------------------------------------------\u001b[0m",
      "\u001b[1;31mTypeError\u001b[0m                                 Traceback (most recent call last)",
      "\u001b[1;32m~\\AppData\\Local\\Temp\\ipykernel_19492\\2119427917.py\u001b[0m in \u001b[0;36m<module>\u001b[1;34m\u001b[0m\n\u001b[1;32m----> 1\u001b[1;33m \u001b[0mdata\u001b[0m\u001b[1;33m[\u001b[0m\u001b[1;34m'data'\u001b[0m\u001b[1;33m]\u001b[0m\u001b[1;33m[\u001b[0m\u001b[1;34m'items'\u001b[0m\u001b[1;33m]\u001b[0m\u001b[1;33m[\u001b[0m\u001b[1;33m-\u001b[0m\u001b[1;36m1\u001b[0m\u001b[1;33m]\u001b[0m\u001b[1;33m[\u001b[0m\u001b[1;34m'defaultDatasetId'\u001b[0m\u001b[1;33m]\u001b[0m\u001b[1;33m\u001b[0m\u001b[1;33m\u001b[0m\u001b[0m\n\u001b[0m",
      "\u001b[1;31mTypeError\u001b[0m: list indices must be integers or slices, not str"
     ]
    }
   ],
   "source": [
    "data['data']['items'][-1]['defaultDatasetId']"
   ]
  },
  {
   "cell_type": "code",
   "execution_count": 84,
   "metadata": {},
   "outputs": [
    {
     "name": "stdout",
     "output_type": "stream",
     "text": [
      "Data retrieved successfully!\n",
      "[{'url': 'https://x.com/AlAhly/status/1822596097874772174', 'twitterUrl': 'https://twitter.com/AlAhly/status/1822596097874772174', 'id': '1822596097874772174', 'text': 'رحلة بطل الدوري مستمرة بحثًا عن فوز  تاريخي أمام زد الليلة🏆\\n\\n#يلا_يا_أهلي https://t.co/OqlNn3Qm7i', 'retweetCount': 50, 'replyCount': 21, 'likeCount': 1380, 'quoteCount': 8, 'createdAt': 'Sun Aug 11 11:29:06 +0000 2024', 'bookmarkCount': 4, 'isRetweet': False, 'isQuote': False}, {'url': 'https://x.com/FilGoal/status/1822589145664950760', 'twitterUrl': 'https://twitter.com/FilGoal/status/1822589145664950760', 'id': '1822589145664950760', 'text': 'ليس كل الأبطال من يُحرزون الذهب 👏👏\\n\\nملك إسماعيل أيضا سجلت حضورا رائعا بسن 19 عاما واحتلت المركز الـ 12من أصل 36 لاعبة في الخماسي الحديث 🇪🇬\\n\\nالمستقبل أمامك وننتظر منك الميدالية في لوس أنجلوس 💪\\n\\n#Olympics | #OlympicGames | #Paris2024 https://t.co/vA5wsYWUrc', 'retweetCount': 45, 'replyCount': 6, 'likeCount': 390, 'quoteCount': 8, 'createdAt': 'Sun Aug 11 11:01:29 +0000 2024', 'bookmarkCount': 3, 'isRetweet': False, 'isQuote': True}, {'url': 'https://x.com/ShobierOfficial/status/1822587555767779365', 'twitterUrl': 'https://twitter.com/ShobierOfficial/status/1822587555767779365', 'id': '1822587555767779365', 'text': 'جرستوا كيشو وفضحتوه ف كل مكان وف الآخر طلع برئ وطبعا ولا واحد اعتذر لأن اصبح عادي انك تصدر احكام دون انتظار النتايج ودلوقتي نفس الأمر مع احمد فتوح وحالة شماته مش معقوله !!؟؟ لا حول ولا قوة الا بالله .. هو مش في تحقيق ؟؟ طب استنىوا شويه بس تطلع نتيجة التحقيق وبعدين اكتبوا واتكلموا وانشروا .. ايه اللي حصل للمجتمع المصرى؟ ايه كم الشماته والتربص ده؟؟ البقاء لله في وفاة أمين الشرطه الذي كان يؤدي واجبه حتي النهايه والبقاء لله في حاجات كتير للاسف ضاعت في المجتمع بتاعنا', 'retweetCount': 74, 'replyCount': 193, 'likeCount': 1376, 'quoteCount': 44, 'createdAt': 'Sun Aug 11 10:55:09 +0000 2024', 'bookmarkCount': 15, 'isRetweet': False, 'isQuote': False}, {'url': 'https://x.com/Kafrawykafr/status/1822582256700985714', 'twitterUrl': 'https://twitter.com/Kafrawykafr/status/1822582256700985714', 'id': '1822582256700985714', 'text': 'من يوم ما بدأنا نصلي وإحنا بنسمع \\nصَلّوا صلاةَ مودع، صلوا صلاة مودع..\\n\\nلحد ما شوفنا صلاة المودع، وعاصرناها حرفيًا..\\n\\nحسبنا الله ونعم الوكيل، وإنا لله وإنّا إليه راجعون.', 'retweetCount': 100, 'replyCount': 3, 'likeCount': 455, 'quoteCount': 1, 'createdAt': 'Sun Aug 11 10:34:06 +0000 2024', 'bookmarkCount': 5, 'isRetweet': False, 'isQuote': False}, {'url': 'https://x.com/wael_alemam/status/1822566134354256205', 'twitterUrl': 'https://twitter.com/wael_alemam/status/1822566134354256205', 'id': '1822566134354256205', 'text': 'للاسف التحاليل تثبت تعاطي أحمد فتوح مخدر الحشيش وبعد وفاة اللي صدمة بسيارته في الساحل امس اللاعب مستقبله تقريبا انتهى .. حاجة تزعل والله يرحم المتوفي https://t.co/JLcVH8bklT', 'retweetCount': 76, 'replyCount': 263, 'likeCount': 1069, 'quoteCount': 62, 'createdAt': 'Sun Aug 11 09:30:02 +0000 2024', 'bookmarkCount': 79, 'isRetweet': False, 'isQuote': False}, {'url': 'https://x.com/NaguibSawiris/status/1822552335953858752', 'twitterUrl': 'https://twitter.com/NaguibSawiris/status/1822552335953858752', 'id': '1822552335953858752', 'text': 'بصراحة تعبت من منظر المجزرة دي ..و شايف ان احنا بقينا ضعفاء بطريقة مذلة و مهينة في نفس الوقت انا لا يمكن اوافق علي قتل العزل و الاطفال و خطف السيدات اللي حصل من حماس في ٧ اكتوبر ! شايف كمان ان الشجب و الادانة مش هيعمل حاجة مع عدو غاشم و مفترى زي ده …بس ربنا كبير و مش ممكن يرضى علي اللي بيحصل ده', 'retweetCount': 45, 'replyCount': 369, 'likeCount': 716, 'quoteCount': 16, 'createdAt': 'Sun Aug 11 08:35:12 +0000 2024', 'bookmarkCount': 20, 'isRetweet': False, 'isQuote': True}, {'url': 'https://x.com/MfaEgypt/status/1822549035489632371', 'twitterUrl': 'https://twitter.com/MfaEgypt/status/1822549035489632371', 'id': '1822549035489632371', 'text': 'وزير الخارجية يلتقي مع البروفيسور/ مجدي يعقوب في مستهل زيارته الحالية لكيجالي، ويستعرضان تطورات تأسيس مركز مجدي يعقوب رواندا- مصر للقلب. https://t.co/BuLvjnYNgA', 'retweetCount': 62, 'replyCount': 6, 'likeCount': 368, 'quoteCount': 8, 'createdAt': 'Sun Aug 11 08:22:06 +0000 2024', 'bookmarkCount': 6, 'isRetweet': False, 'isQuote': False}, {'url': 'https://x.com/sameh_asker/status/1822529697592283161', 'twitterUrl': 'https://twitter.com/sameh_asker/status/1822529697592283161', 'id': '1822529697592283161', 'text': 'الأوليمبياد من #غزة https://t.co/vwQjprPj9J', 'retweetCount': 384, 'replyCount': 36, 'likeCount': 2811, 'quoteCount': 28, 'createdAt': 'Sun Aug 11 07:05:15 +0000 2024', 'bookmarkCount': 75, 'isRetweet': False, 'isQuote': False}, {'url': 'https://x.com/AlsisiOfficial/status/1822525795434172420', 'twitterUrl': 'https://twitter.com/AlsisiOfficial/status/1822525795434172420', 'id': '1822525795434172420', 'text': 'أتوجه بالتهنئة لأبطال مصر في أولمبياد باريس ٢٠٢٤ لقد رفعتم اسم مصر عالياً.\\n-أحمد الجندي الحائز على الميدالية الذهبية في لعبة الخماسي الحديث.\\n-سارة سمير الحائزة على الميدالية الفضية في لعبة رفع الأثقال.\\n-محمد السيد الحائز على الميدالية البرونزية في لعبة سلاح السيف.\\nإنجاز جديد يضاف لإنجازات هذا الجيل، ويؤكد على العزيمة والإصرار وقوة إرادة شباب مصر والتي تعد مصدر فخر لوطننا الغالي.', 'retweetCount': 400, 'replyCount': 528, 'likeCount': 3400, 'quoteCount': 47, 'createdAt': 'Sun Aug 11 06:49:45 +0000 2024', 'bookmarkCount': 24, 'isRetweet': False, 'isQuote': False}, {'url': 'https://x.com/EmaarW/status/1822447367620071801', 'twitterUrl': 'https://twitter.com/EmaarW/status/1822447367620071801', 'id': '1822447367620071801', 'text': 'الكلام اصبح ماسخ ومكرر ولا نتيجه منه والدماء تتناثر فى غزة صبح مساء والفقراء بمصر يزدادون معاناه وظلم ، مجرد متابعه الاحداث بتويتر اصبح يصيبنى بالحزن فادخل اكتب تغريدة واهرب', 'retweetCount': 67, 'replyCount': 53, 'likeCount': 1088, 'quoteCount': 0, 'createdAt': 'Sun Aug 11 01:38:06 +0000 2024', 'bookmarkCount': 9, 'isRetweet': False, 'isQuote': False}, {'url': 'https://x.com/ammaralihassan/status/1822443653551227230', 'twitterUrl': 'https://twitter.com/ammaralihassan/status/1822443653551227230', 'id': '1822443653551227230', 'text': 'https://t.co/dsoPNfgv7X', 'retweetCount': 59, 'replyCount': 24, 'likeCount': 336, 'quoteCount': 6, 'createdAt': 'Sun Aug 11 01:23:21 +0000 2024', 'bookmarkCount': 4, 'isRetweet': False, 'isQuote': False}, {'url': 'https://x.com/ammaralihassan/status/1822442660939923879', 'twitterUrl': 'https://twitter.com/ammaralihassan/status/1822442660939923879', 'id': '1822442660939923879', 'text': 'لير العالم كله هذا التوحش', 'retweetCount': 104, 'replyCount': 10, 'likeCount': 172, 'quoteCount': 3, 'createdAt': 'Sun Aug 11 01:19:24 +0000 2024', 'bookmarkCount': 3, 'isRetweet': False, 'isQuote': True}]\n"
     ]
    }
   ],
   "source": [
    "import os\n",
    "import requests\n",
    "\n",
    "# Define the API endpoint\n",
    "url = \"https://api.apify.com/v2/datasets/URbCSzUn3lG75Nsxn/items?format=json\"\n",
    "\n",
    "# Set up the headers with the Bearer token\n",
    "headers = {\n",
    "    \"Authorization\": f\"Bearer {os.environ['APIFY_TOKEN']}\"\n",
    "}\n",
    "\n",
    "# Send the GET request to the API with the headers\n",
    "response = requests.get(url, headers=headers, params={\"clean\":\"true\",\"view\":\"overview\"})\n",
    "\n",
    "# Check if the request was successful\n",
    "if response.status_code == 200:\n",
    "    data = response.json()  # Parse the JSON response\n",
    "    print(\"Data retrieved successfully!\")\n",
    "    print(data)  # Print the data or handle it as needed\n",
    "else:\n",
    "    print(f\"Failed to retrieve data. Status code: {response.status_code}\")\n",
    "    print(response.text)  # Print the error message if available\n"
   ]
  },
  {
   "cell_type": "code",
   "execution_count": 85,
   "metadata": {},
   "outputs": [
    {
     "data": {
      "text/plain": [
       "{'url': 'https://x.com/AlAhly/status/1822596097874772174',\n",
       " 'twitterUrl': 'https://twitter.com/AlAhly/status/1822596097874772174',\n",
       " 'id': '1822596097874772174',\n",
       " 'text': 'رحلة بطل الدوري مستمرة بحثًا عن فوز  تاريخي أمام زد الليلة🏆\\n\\n#يلا_يا_أهلي https://t.co/OqlNn3Qm7i',\n",
       " 'retweetCount': 50,\n",
       " 'replyCount': 21,\n",
       " 'likeCount': 1380,\n",
       " 'quoteCount': 8,\n",
       " 'createdAt': 'Sun Aug 11 11:29:06 +0000 2024',\n",
       " 'bookmarkCount': 4,\n",
       " 'isRetweet': False,\n",
       " 'isQuote': False}"
      ]
     },
     "execution_count": 85,
     "metadata": {},
     "output_type": "execute_result"
    }
   ],
   "source": [
    "data[0]"
   ]
  },
  {
   "cell_type": "code",
   "execution_count": 74,
   "metadata": {},
   "outputs": [
    {
     "name": "stdout",
     "output_type": "stream",
     "text": [
      "رحلة بطل الدوري مستمرة بحثًا عن فوز  تاريخي أمام زد الليلة🏆\n",
      "\n",
      "#يلا_يا_أهلي https://t.co/OqlNn3Qm7i\n",
      "ليس كل الأبطال من يُحرزون الذهب 👏👏\n",
      "\n",
      "ملك إسماعيل أيضا سجلت حضورا رائعا بسن 19 عاما واحتلت المركز الـ 12من أصل 36 لاعبة في الخماسي الحديث 🇪🇬\n",
      "\n",
      "المستقبل أمامك وننتظر منك الميدالية في لوس أنجلوس 💪\n",
      "\n",
      "#Olympics | #OlympicGames | #Paris2024 https://t.co/vA5wsYWUrc\n",
      "جرستوا كيشو وفضحتوه ف كل مكان وف الآخر طلع برئ وطبعا ولا واحد اعتذر لأن اصبح عادي انك تصدر احكام دون انتظار النتايج ودلوقتي نفس الأمر مع احمد فتوح وحالة شماته مش معقوله !!؟؟ لا حول ولا قوة الا بالله .. هو مش في تحقيق ؟؟ طب استنىوا شويه بس تطلع نتيجة التحقيق وبعدين اكتبوا واتكلموا وانشروا .. ايه اللي حصل للمجتمع المصرى؟ ايه كم الشماته والتربص ده؟؟ البقاء لله في وفاة أمين الشرطه الذي كان يؤدي واجبه حتي النهايه والبقاء لله في حاجات كتير للاسف ضاعت في المجتمع بتاعنا\n",
      "من يوم ما بدأنا نصلي وإحنا بنسمع \n",
      "صَلّوا صلاةَ مودع، صلوا صلاة مودع..\n",
      "\n",
      "لحد ما شوفنا صلاة المودع، وعاصرناها حرفيًا..\n",
      "\n",
      "حسبنا الله ونعم الوكيل، وإنا لله وإنّا إليه راجعون.\n",
      "للاسف التحاليل تثبت تعاطي أحمد فتوح مخدر الحشيش وبعد وفاة اللي صدمة بسيارته في الساحل امس اللاعب مستقبله تقريبا انتهى .. حاجة تزعل والله يرحم المتوفي https://t.co/JLcVH8bklT\n",
      "بصراحة تعبت من منظر المجزرة دي ..و شايف ان احنا بقينا ضعفاء بطريقة مذلة و مهينة في نفس الوقت انا لا يمكن اوافق علي قتل العزل و الاطفال و خطف السيدات اللي حصل من حماس في ٧ اكتوبر ! شايف كمان ان الشجب و الادانة مش هيعمل حاجة مع عدو غاشم و مفترى زي ده …بس ربنا كبير و مش ممكن يرضى علي اللي بيحصل ده\n",
      "وزير الخارجية يلتقي مع البروفيسور/ مجدي يعقوب في مستهل زيارته الحالية لكيجالي، ويستعرضان تطورات تأسيس مركز مجدي يعقوب رواندا- مصر للقلب. https://t.co/BuLvjnYNgA\n",
      "الأوليمبياد من #غزة https://t.co/vwQjprPj9J\n",
      "أتوجه بالتهنئة لأبطال مصر في أولمبياد باريس ٢٠٢٤ لقد رفعتم اسم مصر عالياً.\n",
      "-أحمد الجندي الحائز على الميدالية الذهبية في لعبة الخماسي الحديث.\n",
      "-سارة سمير الحائزة على الميدالية الفضية في لعبة رفع الأثقال.\n",
      "-محمد السيد الحائز على الميدالية البرونزية في لعبة سلاح السيف.\n",
      "إنجاز جديد يضاف لإنجازات هذا الجيل، ويؤكد على العزيمة والإصرار وقوة إرادة شباب مصر والتي تعد مصدر فخر لوطننا الغالي.\n",
      "الكلام اصبح ماسخ ومكرر ولا نتيجه منه والدماء تتناثر فى غزة صبح مساء والفقراء بمصر يزدادون معاناه وظلم ، مجرد متابعه الاحداث بتويتر اصبح يصيبنى بالحزن فادخل اكتب تغريدة واهرب\n"
     ]
    }
   ],
   "source": [
    "for i in range(10):\n",
    "    print(    data[i]['text'])"
   ]
  },
  {
   "cell_type": "code",
   "execution_count": null,
   "metadata": {},
   "outputs": [],
   "source": []
  }
 ],
 "metadata": {
  "kernelspec": {
   "display_name": "base",
   "language": "python",
   "name": "python3"
  },
  "language_info": {
   "codemirror_mode": {
    "name": "ipython",
    "version": 3
   },
   "file_extension": ".py",
   "mimetype": "text/x-python",
   "name": "python",
   "nbconvert_exporter": "python",
   "pygments_lexer": "ipython3",
   "version": "3.9.13"
  }
 },
 "nbformat": 4,
 "nbformat_minor": 2
}
